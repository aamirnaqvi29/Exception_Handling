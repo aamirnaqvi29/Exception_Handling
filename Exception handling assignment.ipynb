{
 "cells": [
  {
   "cell_type": "markdown",
   "id": "660e4646-5350-40c8-b641-9d844bddc98b",
   "metadata": {},
   "source": [
    "## Question 1"
   ]
  },
  {
   "cell_type": "markdown",
   "id": "e6ccbc03-61bd-4ee8-bdd1-c8c29b599c66",
   "metadata": {},
   "source": [
    "#### * An exception is a type of error that occurs when a syntactically correct Python code raises an error.\n",
    "#### * The diffrence between exception and syntax error is that an error is an issue in a program that prevents the program from completing its task. In comparison, an exception is a condition that interrupts the normal flow of the program"
   ]
  },
  {
   "cell_type": "markdown",
   "id": "b6710b06-c2c3-4f56-b8b1-33c4ddd33c94",
   "metadata": {},
   "source": [
    "## Question 2"
   ]
  },
  {
   "cell_type": "markdown",
   "id": "ad745421-7405-4825-904f-28ec6c20362a",
   "metadata": {},
   "source": [
    "#### * If the exception is not handled by an except clause, the exception is re-raised after the finally clause has been executed."
   ]
  },
  {
   "cell_type": "markdown",
   "id": "02a70215-07e6-43fd-8236-36f89ab95c3e",
   "metadata": {},
   "source": [
    "## Question 3"
   ]
  },
  {
   "cell_type": "markdown",
   "id": "4e95a3d9-9bd0-4b55-8649-0635b481021c",
   "metadata": {},
   "source": [
    "#### * The try and except block in Python is used to catch and handle exceptions."
   ]
  },
  {
   "cell_type": "markdown",
   "id": "62ba491d-2102-445d-aed0-bb67ce2504a7",
   "metadata": {},
   "source": [
    "## Question 4"
   ]
  },
  {
   "cell_type": "markdown",
   "id": "be60a2bf-75b0-4422-8141-3535f106b6b2",
   "metadata": {},
   "source": [
    "#### *1 - The try block lets you test a block of code for errors. The except block lets you handle the error. The else block lets you execute code when there is no error\n",
    "#### *2 - The finally keyword is used to execute code (used with exceptions - try.. catch statements) no matter if there is an exception or not.\n",
    "#### *3 - The raise keyword raises a specific exception when a condition is met or the code encounters an error"
   ]
  },
  {
   "cell_type": "markdown",
   "id": "23fb63a2-a097-4afc-b3b4-7b092f7008cc",
   "metadata": {},
   "source": [
    "## Question 5"
   ]
  },
  {
   "cell_type": "markdown",
   "id": "a516ed8b-b811-4fb0-a2e5-8f22098ecbd5",
   "metadata": {},
   "source": [
    "#### *Sometimes based on project requirement, a programmer needs to create his own exceptions and raise explicitly for corresponding scenarios\n",
    "#### *Built-in exceptions offer information about Python-related problems, and custom exceptions will add information about project-related problems"
   ]
  },
  {
   "cell_type": "markdown",
   "id": "6a18215a-ab42-41bc-8107-c86bedae2e7c",
   "metadata": {},
   "source": [
    "## Question 6"
   ]
  },
  {
   "cell_type": "code",
   "execution_count": 1,
   "id": "904c12c6-db62-48ae-aec9-621183761aab",
   "metadata": {},
   "outputs": [],
   "source": [
    "class car_showroom(Exception):\n",
    "    def __intit__(self,car_price):\n",
    "        self.car_price = car_price\n",
    "      \n",
    "        \n",
    "        "
   ]
  },
  {
   "cell_type": "code",
   "execution_count": 2,
   "id": "686b6415-922c-46c5-bf69-c4012eff538f",
   "metadata": {},
   "outputs": [],
   "source": [
    "def validate_car_price(car_price):\n",
    "    if car_price < 0 :\n",
    "        print(\"price of car is higher than that\")\n",
    "    elif car_price > 5000000:\n",
    "        print(\"this is out of range\")\n",
    "        \n",
    "    else:\n",
    "        print(\"this is the car price\")\n",
    "    "
   ]
  },
  {
   "cell_type": "code",
   "execution_count": 3,
   "id": "1272a1ac-77a6-4c62-8854-5687a39c9670",
   "metadata": {},
   "outputs": [
    {
     "name": "stdin",
     "output_type": "stream",
     "text": [
      "enter your buget 55000\n"
     ]
    },
    {
     "name": "stdout",
     "output_type": "stream",
     "text": [
      "this is the car price\n"
     ]
    }
   ],
   "source": [
    "try:\n",
    "    car_price = int(input(\"enter your buget\"))\n",
    "    validate_car_price(car_price)\n",
    "except validate_car_price as e:\n",
    "    print(e)\n",
    "    "
   ]
  },
  {
   "cell_type": "code",
   "execution_count": null,
   "id": "99fa4788-2325-4214-9739-4db7eca9820c",
   "metadata": {},
   "outputs": [],
   "source": []
  }
 ],
 "metadata": {
  "kernelspec": {
   "display_name": "Python 3 (ipykernel)",
   "language": "python",
   "name": "python3"
  },
  "language_info": {
   "codemirror_mode": {
    "name": "ipython",
    "version": 3
   },
   "file_extension": ".py",
   "mimetype": "text/x-python",
   "name": "python",
   "nbconvert_exporter": "python",
   "pygments_lexer": "ipython3",
   "version": "3.10.8"
  }
 },
 "nbformat": 4,
 "nbformat_minor": 5
}
